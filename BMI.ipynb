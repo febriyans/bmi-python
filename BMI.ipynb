{
 "cells": [
  {
   "cell_type": "code",
   "execution_count": 6,
   "metadata": {},
   "outputs": [
    {
     "name": "stdout",
     "output_type": "stream",
     "text": [
      "Masukan Tinggi Badan (M) : 12\n",
      "Masukan Bearat Badan (KG) : 12\n",
      "UNDERWEIGHT\n"
     ]
    }
   ],
   "source": [
    "TinggiBadan = float(input(\"Masukan Tinggi Badan (M) : \"))\n",
    "BeratBadan = float(input(\"Masukan Bearat Badan (KG) : \"))\n",
    "bmi = BeratBadan / (TinggiBadan**2)\n",
    "if bmi < 18.50:\n",
    "    print(\"UNDERWEIGHT\")\n",
    "elif bmi >=18.50 and bmi <= 24.99:\n",
    "    print(\"NORMALWEIGHT\")\n",
    "elif bmi >=25.00 and bmi <= 29.99:\n",
    "    print (\"OVERWEIGHT\")\n",
    "else:\n",
    "    print(\"OBESITAS\")"
   ]
  },
  {
   "cell_type": "code",
   "execution_count": null,
   "metadata": {},
   "outputs": [],
   "source": []
  }
 ],
 "metadata": {
  "kernelspec": {
   "display_name": "Python 3",
   "language": "python",
   "name": "python3"
  },
  "language_info": {
   "codemirror_mode": {
    "name": "ipython",
    "version": 3
   },
   "file_extension": ".py",
   "mimetype": "text/x-python",
   "name": "python",
   "nbconvert_exporter": "python",
   "pygments_lexer": "ipython3",
   "version": "3.7.3"
  }
 },
 "nbformat": 4,
 "nbformat_minor": 2
}
